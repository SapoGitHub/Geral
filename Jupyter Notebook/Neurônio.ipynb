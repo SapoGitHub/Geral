{
 "cells": [
  {
   "cell_type": "markdown",
   "metadata": {},
   "source": [
    "# Introdução\n",
    "\n",
    "* Redes neurais artificiais: classe de modelos computacionais para reconhecimento de padrões\n",
    "* Redes neurais físicsa: redes neurais implementadas em um hardware dedicado.\n",
    "* Computadores quânticos levam a um aumento exponencial no armazenamento e poder de processamento\n",
    "* Modelos mais simples são a base.\n",
    "  * Modelo mais simples: McCulloch e Pitts (1943)\n",
    "  * Depois: Rosenblatt (1957)\n",
    "* \"qubit neuron\": Implementação de perceptrons em computador quântico, onde cada qubit atua como um neurônio individual.\n",
    "* Artigo propõe um perceptron de Rosenblatt para computadores quânticos.\n",
    "* O equivalente aos vetores clássicos de entrada e pesos de dimensão é codificado no hardware quântico usando N bits.\n",
    "  * $m=2^{N}$\n",
    "\n"
   ]
  },
  {
   "cell_type": "markdown",
   "metadata": {},
   "source": [
    "# Resultados\n",
    "\n",
    "* Circuito quântico é modelado como um perceptron clássico.\n",
    "* As entradas e pesos dos vetores são limitados a valores binários:\n",
    "  * $i_{j},w_{j}\\in\\left\\{ -1,1\\right\\} $\n",
    "  * Como os neurônios de McCulloch-Pitts\n",
    "* Um vetor de entrada com dimensão m é codificado usando m coefficientes necessários para gerar uma função de onda $\\left|\\psi_{i}\\right\\rangle $ de N qubits.\n",
    "  * Na prático para um valor de entrada qualquer $\\left(\\overrightarrow{i}\\right)$ e peso um vetor peso $\\left(\\overrightarrow{w}\\right)$:\n",
    "  \n",
    "\\begin{equation}\n",
    "\\overrightarrow{i}=\\left(\\begin{array}{c}\n",
    "i_{0}\\\\\n",
    "i_{1}\\\\\n",
    "i_{m-1}\n",
    "\\end{array}\\right)\\qquad\\overrightarrow{w}=\\left(\\begin{array}{c}\n",
    "w_{0}\\\\\n",
    "w_{1}\\\\\n",
    "w_{m-1}\n",
    "\\end{array}\\right)\n",
    "\\end{equation}\n",
    "\n",
    "E como os valores são binários e precisamos que a probabilidade de encontrarmos o estado em qualquer sistema seja um, temos então as seguintes equações de estado\n",
    "\n",
    "\\begin{equation}\n",
    "\\left|\\psi_{i}\\right\\rangle =\\frac{1}{\\sqrt{m}}\\sum_{j=0}^{m-1}i_{j}\\left|j\\right\\rangle \\qquad\\left|\\psi_{w}\\right\\rangle =\\frac{1}{\\sqrt{m}}\\sum_{j=0}^{m-1}w_{j}\\left|j\\right\\rangle \n",
    "\\end{equation}\n",
    "\n",
    "Pois por exemplo para as entradas:\n",
    "\\begin{equation}\n",
    "P\\left(\\psi_{i}\\right)=\\sum_{j=0}^{m-1}\\left(\\frac{i_{j}}{\\sqrt{m}}\\right)^{2}=\\frac{m}{m}=1\n",
    "\\end{equation}\n",
    "\n",
    "As bases computacionais do processo quântico se são as bases no espaço de Hilbert dos N qubits, que corresponde a todas possibilidades de estados dos qubits é $\\left|j\\right\\rangle \\in\\left\\{ \\left|00\\dots00\\right\\rangle ,\\left|00\\dots01\\right\\rangle ,\\dots,\\left|11\\dots11\\right\\rangle \\right\\} $."
   ]
  },
  {
   "cell_type": "markdown",
   "metadata": {},
   "source": [
    "O primeiro passo  é preparar o estado $\\left|\\psi_{i}\\right\\rangle $ codificando  as entradas em $\\overrightarrow{i}$. Assumindo que o estado é inicializado no estado $\\left|0\\right\\rangle$, vamos uma transformação unitária de modo que:\n",
    "\n",
    "\\begin{equation}\n",
    "U_{i}\\left|0\\right\\rangle =\\left|\\psi_{i}\\right\\rangle \n",
    "\\end{equation}\n",
    "  \n",
    "Qualquer matriz tendo $\\overrightarrow{i}$ na primeira colune pode ser usado. \n",
    "* Matriz unitária: $U^{\\dagger}U=UU^{\\dagger}=\\mathbb{I}_{n}$\n",
    "  * $U^{\\dagger}=U^{-1}$\n",
    "  \n",
    "Por exemplo, para um vetor de entrada $\\overrightarrow{i}=\\left(\\begin{array}{cccc}\n",
    "+1 & -1 & -1 & +1\\end{array}\\right)^{T}$, propomos a matriz unitária:\n",
    "\n",
    "\\begin{equation}\n",
    "U_{i}=\\left(\\begin{array}{cccc}\n",
    "+1 & +1 & +1 & -1\\\\\n",
    "-1 & +1 & +1 & +1\\\\\n",
    "-1 & -1 & +1 & -1\\\\\n",
    "+1 & -1 & +1 & +1\n",
    "\\end{array}\\right)\n",
    "\\end{equation}\n",
    "\n",
    "E sendo:\n",
    "\\begin{equation}\n",
    "\\left|0\\right\\rangle =\\left(\\begin{array}{c}\n",
    "1\\\\\n",
    "0\\\\\n",
    "0\\\\\n",
    "0\n",
    "\\end{array}\\right)\n",
    "\\end{equation}\n",
    "\n",
    "No espaço com as bases $b=\\left(\\begin{array}{cccc}\n",
    "\\left|00\\right\\rangle  & \\left|01\\right\\rangle  & \\left|10\\right\\rangle  & \\left|11\\right\\rangle \\end{array}\\right)^{T}$"
   ]
  },
  {
   "cell_type": "code",
   "execution_count": 31,
   "metadata": {},
   "outputs": [
    {
     "name": "stdout",
     "output_type": "stream",
     "text": [
      "True\n",
      "[[ 0.5]\n",
      " [-0.5]\n",
      " [-0.5]\n",
      " [ 0.5]]\n"
     ]
    }
   ],
   "source": [
    "import numpy as np                         # Biblioteca de funções matemáticas\n",
    "\n",
    "m=4              # Dimensão\n",
    "i=[1,-1,-1,1]    # Nosso vetor i\n",
    "w=[1,1,-1,-1]     # Nosso vetor w\n",
    "\n",
    "# Matriz identidade:\n",
    "I=np.array([[1,0,0,0],\n",
    "           [0,1,0,0],\n",
    "           [0,0,1,0],\n",
    "           [0,0,0,1]])\n",
    "\n",
    "# Definmos nossa matriz\n",
    "Ui=np.array([ [i[0], +1, +1, -1], \n",
    "              [i[1], +1, +1, +1],\n",
    "              [i[2], -1, +1, -1],\n",
    "              [i[3], -1, +1, +1]])/np.sqrt(m)\n",
    "\n",
    "#Confirmamos se é unitária:\n",
    "A=Ui.dot(Ui.transpose().conjugate()) \n",
    "B=Ui.transpose().conjugate().dot(Ui)\n",
    "\n",
    "print((A==I).all() and  (B==I).all())\n",
    "\n",
    "# O estado inicial\n",
    "e0 = np.array([[1], \n",
    "              [0],\n",
    "              [0],\n",
    "              [0]])\n",
    "\n",
    "pi=Ui.dot(e0)\n",
    "\n",
    "print(pi)  # Vetor de estado do nosso sistema\n"
   ]
  },
  {
   "cell_type": "markdown",
   "metadata": {},
   "source": [
    "* **Observação**: As portas são construídas com matrizes unitáris porque elas não alteram o tamanho de um vetor. E o vetor de estado deve ter sempre tamanho 1.\n",
    "\n",
    "O próximo passo é então calcular o produto interno entre $\\overrightarrow{w}$ e $\\overrightarrow{i}$. \n",
    "\n",
    "Por exemplo, se nosso vetor peso é $\\overrightarrow{w}=\\left(\\begin{array}{cccc}\n",
    "1 & 1 & -1 & -1\\end{array}\\right)^{T}$. Então nosso estado é: \n",
    "\n",
    "\\begin{equation}\n",
    "\\left|\\psi_{w}\\right\\rangle =\\frac{1}{\\sqrt{4}}\\left(\\left|0\\right\\rangle +\\left|1\\right\\rangle -\\left|2\\right\\rangle -\\left|3\\right\\rangle \\right)\n",
    "\\end{equation}\n",
    "\n",
    "Ou em notação vetorial:\n",
    "\n",
    "\\begin{equation}\n",
    "\\left|\\psi_{w}\\right\\rangle =\\frac{1}{2}\\left(\\begin{array}{c}\n",
    "1\\\\\n",
    "1\\\\\n",
    "-1\\\\\n",
    "-1\n",
    "\\end{array}\\right)\n",
    "\\end{equation}\n",
    "\n",
    "Então vamos definir uma matriz unitária, deforma análoga ao caso anterior, mas com o estado inicial do sistema um pouco diferente: $u_{w}\\left|m-1\\right\\rangle =\\left|\\psi_{w}\\right\\rangle $\n",
    "\n",
    "Isso é dado para uma matriz unitária qualquer em que a última coluna seja $\\overrightarrow{w}$. Temos então:\n",
    "\n",
    "\\begin{equation}\n",
    "u_{w}=\\left(\\begin{array}{cccc}\n",
    "-1 & +1 & +1 & +1\\\\\n",
    "-1 & -1 & +1 & +1\\\\\n",
    "-1 & -1 & -1 & -1\\\\\n",
    "+1 & -1 & +1 & -1\n",
    "\\end{array}\\right)\n",
    "\\end{equation}\n"
   ]
  },
  {
   "cell_type": "code",
   "execution_count": 32,
   "metadata": {},
   "outputs": [
    {
     "name": "stdout",
     "output_type": "stream",
     "text": [
      "True\n",
      "[[ 0.5]\n",
      " [ 0.5]\n",
      " [-0.5]\n",
      " [-0.5]]\n"
     ]
    }
   ],
   "source": [
    "# Definimos nossa matriz\n",
    "uw=np.array([ [-1, +1, -1, w[0]], \n",
    "              [-1, -1, +1, w[1]],\n",
    "              [-1, -1, -1, w[2]],\n",
    "              [-1, +1, +1, w[3]]])/np.sqrt(4)\n",
    "\n",
    "#Confirmamos se é unitária:\n",
    "A=uw.dot(uw.transpose().conjugate()) \n",
    "B=uw.transpose().conjugate().dot(uw)\n",
    "\n",
    "print((A==I).all() and  (B==I).all())\n",
    "\n",
    "# O estado inicial\n",
    "e3 = np.array([[0], \n",
    "              [0],\n",
    "              [0],\n",
    "              [1]])\n",
    "\n",
    "print(uw.dot(e3))  # Vetor de estado do nosso sistema"
   ]
  },
  {
   "cell_type": "markdown",
   "metadata": {},
   "source": [
    "Então como é unitária:\n",
    "\n",
    "\\begin{equation}\n",
    "u_{w}^{\\dagger}u_{w}\\left|m-1\\right\\rangle =u_{w}^{\\dagger}\\left|\\psi_{w}\\right\\rangle \n",
    "\\end{equation}\n",
    "\n",
    "\\begin{equation}\n",
    "u_{w}^{\\dagger}\\left|\\psi_{w}\\right\\rangle =\\left|m-1\\right\\rangle \n",
    "\\end{equation}\n",
    "\n",
    "E como possui apenas números reais:\n",
    "\\begin{equation}\n",
    "u_{w}^{T}\\left|\\psi_{w}\\right\\rangle =\\left|m-1\\right\\rangle \n",
    "\\end{equation}\n",
    "\n",
    "Como vamos trabalhar principalmente com $u_{w}^{T}$, vamos renomear $U_{w}=u_{w}^{T}$. Então a primeira equação importante que temos é que:\n",
    "\n",
    "\\begin{equation}\n",
    "U_{w}\\left|\\psi_{w}\\right\\rangle =\\left|m-1\\right\\rangle \n",
    "\\end{equation}\n",
    "\n",
    "Agora se aplicamos $U_{w}$ a $\\left|\\psi_{i}\\right\\rangle$ ainda devemos ser capazes de escrever nosso vetor em termos da nossa base, isto é:\n",
    "\n",
    "\\begin{equation}\n",
    "U_{w}\\left|\\psi_{i}\\right\\rangle =U_{w}U_{i}\\left|0\\right\\rangle =\\sum_{j=0}^{m-1}c_{j}\\left|j\\right\\rangle \n",
    "\\end{equation}\n",
    "\n",
    "Então agora estamos prontos pra calcular o produto escalar $\\left(\\left|\\psi_{w}\\right\\rangle ,\\left|\\psi_{i}\\right\\rangle \\right)$. Pela linearidade do segundo argumento:\n",
    "\n",
    "\\begin{equation}\n",
    "\\left(\\left|\\psi_{w}\\right\\rangle ,\\left|\\psi_{i}\\right\\rangle \\right)=\\mathbb{I}\\left(\\left|\\psi_{w}\\right\\rangle ,\\left|\\psi_{i}\\right\\rangle \\right)\n",
    "\\end{equation}\n",
    "\n",
    "\\begin{equation}\n",
    "=U_{w}^{\\dagger}U_{w}\\left(\\left|\\psi_{w}\\right\\rangle ,\\left|\\psi_{i}\\right\\rangle \\right)\n",
    "\\end{equation}\n",
    "\n",
    "\\begin{equation}\n",
    "=\\left(U_{w}\\left|\\psi_{w}\\right\\rangle ,U_{w}\\left|\\psi_{i}\\right\\rangle \\right)\n",
    "\\end{equation}\n",
    "\n",
    "Então a partir das equações que calculamos:\n",
    "\n",
    "\\begin{equation}\n",
    "=\\left(\\left|m-1\\right\\rangle ,\\sum_{j=0}^{m-1}c_{j}\\left|j\\right\\rangle \\right)\n",
    "\\end{equation}\n",
    "\n",
    "\\begin{equation}\n",
    "=\\sum_{j=0}^{m-1}c_{j}\\left\\langle m-1|j\\right\\rangle \n",
    "\\end{equation}\n",
    "\n",
    "E como $\\delta_{m-1,j}$, então:\n",
    "\n",
    "\\begin{equation}\n",
    "\\left\\langle \\psi_{w}|\\psi_{i}\\right\\rangle =c_{m-1}\n",
    "\\end{equation}"
   ]
  },
  {
   "cell_type": "markdown",
   "metadata": {},
   "source": [
    "Temos duas interpretações disso. O artigo aborda que se olharmos as definições, podemos notar que:\n",
    "\n",
    "\\begin{equation}\n",
    "\\left\\langle \\psi_{w}|\\psi_{i}\\right\\rangle =\\frac{\\left\\langle w|i\\right\\rangle }{m}\n",
    "\\end{equation}\n",
    "\n",
    "Mas aqui talvez tenhamos algo mais interessante. Temos que:\n",
    "\n",
    "\\begin{equation}\n",
    "U_{i}\\left|0\\right\\rangle =\\left|\\psi_{i}\\right\\rangle \n",
    "\\end{equation}\n",
    "\n",
    "$\\left|\\psi_{i}\\right\\rangle $ é basicamente nosso vetor de entrada $\\overrightarrow{i}$ com a probabilidade normalizada ($\\overrightarrow{i}=\\sqrt{m}\\left|\\psi_{i}\\right\\rangle $). Então quando fazemos:\n",
    "\n",
    "\\begin{equation}\n",
    "U_{w}\\left|\\psi_{i}\\right\\rangle =\\left|\\phi_{i,w}\\right\\rangle \n",
    "\\end{equation}\n",
    "\n",
    "Sendo que nossa última linha de $U_{w}$ é o nosso vetor peso com a probabilidade também normalizada, então o último elemento do vetor resultante vai ser o produto interno entre $\\overrightarrow{i}$ e $\\overrightarrow{w}$ dividido por $m$.\n",
    "\n",
    "\\begin{equation}\n",
    "\\left(\\left|\\phi_{i,w}\\right\\rangle \\right)_{m-1}=\\frac{\\left\\langle w|i\\right\\rangle }{m}\n",
    "\\end{equation}\n",
    "\n",
    "\\begin{equation}\n",
    "\\left\\langle m-1|\\phi_{i,w}\\right\\rangle =\\frac{\\left\\langle w|i\\right\\rangle }{m}\n",
    "\\end{equation}\n",
    "\n",
    "O que demonstramos matematicamente."
   ]
  },
  {
   "cell_type": "markdown",
   "metadata": {},
   "source": [
    "Então nosso produto interno entre $\\overrightarrow{i}=\\left(\\begin{array}{cccc}\n",
    "+1 & -1 & -1 & +1\\end{array}\\right)^{T}$ e $\\overrightarrow{w}=\\left(\\begin{array}{cccc}\n",
    "1 & 1 & -1 & -1\\end{array}\\right)^{T}$ é $\\overrightarrow{i} \\cdot \\overrightarrow{w} = 1 -1 +1 -1 =0$."
   ]
  },
  {
   "cell_type": "code",
   "execution_count": 33,
   "metadata": {},
   "outputs": [
    {
     "name": "stdout",
     "output_type": "stream",
     "text": [
      "[0.]\n"
     ]
    }
   ],
   "source": [
    "Uw=uw.transpose()          # Definimos nossa matriz Uw com a transposta de uw\n",
    "c=Uw.dot(Ui.dot(e0))[m-1]  # Fazemos as operações Uw.Ui.e e pegamos o elemento (m-1)\n",
    "print(c*m)                 # printamos o elemento"
   ]
  },
  {
   "cell_type": "markdown",
   "metadata": {},
   "source": [
    "Vamos usar um bit auxiliar ($a$), inicialmente no estado $\\left|0\\right\\rangle $. Então usamos uma porta NOT multi controlado entre os $N$ bits e o bit alvo $a$, que leva a :\n",
    "\n",
    "\\begin{equation}\n",
    "\\left|\\phi_{i,w}\\right\\rangle \\left|0\\right\\rangle \\rightarrow\\sum_{j=0}^{m-2}c_{j}\\left|0\\right\\rangle _{a}+c_{m-1}\\left|m-1\\right\\rangle \\left|1\\right\\rangle _{a}\n",
    "\\end{equation}\n",
    "\n",
    "Como o nome sugere, é como uma extensão do cNOT para 2 qubits, ou a porta de Toffoli (ccNOT) para 3 bits. Isto é, se todos os bits de controle (nosso $N$ bits) forem $\\left|1\\right\\rangle $, ele inverte o bit alvo (nosso $a$, inicialmente em $\\left|0\\right\\rangle $).\n",
    "\n",
    "Então precisamos apenas medir o estado do qubit auiliar na base computacional que produz a saída $\\left|1\\right\\rangle _{a}$, com a probabilidade $\\left|c_{m-1}\\right|^{2}$.\n",
    "\n",
    "* **Observação**: enquanto o perceptron clássico só pode ser empregado como um classificador linear, aparentemente o quantum não."
   ]
  },
  {
   "cell_type": "markdown",
   "metadata": {},
   "source": [
    "### Implementação das transformações unitárias"
   ]
  },
  {
   "cell_type": "code",
   "execution_count": null,
   "metadata": {},
   "outputs": [],
   "source": []
  },
  {
   "cell_type": "code",
   "execution_count": null,
   "metadata": {},
   "outputs": [],
   "source": []
  }
 ],
 "metadata": {
  "kernelspec": {
   "display_name": "Python 3",
   "language": "python",
   "name": "python3"
  },
  "language_info": {
   "codemirror_mode": {
    "name": "ipython",
    "version": 3
   },
   "file_extension": ".py",
   "mimetype": "text/x-python",
   "name": "python",
   "nbconvert_exporter": "python",
   "pygments_lexer": "ipython3",
   "version": "3.7.3"
  }
 },
 "nbformat": 4,
 "nbformat_minor": 2
}
