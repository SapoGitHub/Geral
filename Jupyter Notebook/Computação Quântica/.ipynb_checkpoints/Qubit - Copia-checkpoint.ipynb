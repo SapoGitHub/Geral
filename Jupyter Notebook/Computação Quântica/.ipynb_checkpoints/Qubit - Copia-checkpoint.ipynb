{
 "cells": [
  {
   "cell_type": "code",
   "execution_count": 1,
   "metadata": {},
   "outputs": [
    {
     "data": {
      "text/plain": [
       "'0.9.1'"
      ]
     },
     "execution_count": 1,
     "metadata": {},
     "output_type": "execute_result"
    }
   ],
   "source": [
    "import qiskit                # Biblioteca utilizada pela IBM para computadores quânticos\n",
    "from qiskit import *         # Importamos tudo\n",
    "\n",
    "qiskit.__version__  "
   ]
  },
  {
   "cell_type": "code",
   "execution_count": 2,
   "metadata": {},
   "outputs": [],
   "source": [
    "qc = QuantumCircuit(2, 2) #Criamos um circuito com 2 registradores quânticos e dois registradores clássicos"
   ]
  },
  {
   "cell_type": "code",
   "execution_count": 3,
   "metadata": {},
   "outputs": [
    {
     "data": {
      "text/plain": [
       "<qiskit.circuit.instructionset.InstructionSet at 0x266fedfd898>"
      ]
     },
     "execution_count": 3,
     "metadata": {},
     "output_type": "execute_result"
    }
   ],
   "source": [
    "qc.h(0) #Operamos o Gate Hadamard em q[0]"
   ]
  },
  {
   "cell_type": "code",
   "execution_count": 4,
   "metadata": {},
   "outputs": [
    {
     "data": {
      "text/plain": [
       "<qiskit.circuit.instructionset.InstructionSet at 0x266fedfdb00>"
      ]
     },
     "execution_count": 4,
     "metadata": {},
     "output_type": "execute_result"
    }
   ],
   "source": [
    "qc.cx(0, 1)    #Aplicamos o CNOT ao par de qubits"
   ]
  },
  {
   "cell_type": "code",
   "execution_count": 5,
   "metadata": {},
   "outputs": [
    {
     "name": "stdout",
     "output_type": "stream",
     "text": [
      "{'00': 506, '11': 518}\n"
     ]
    }
   ],
   "source": [
    "# Medimos os estados dos registradores quânticos e guardamos nos clássicos\n",
    "qc.measure([0,1], [0,1])                            # q[0]->c[0]\n",
    "simulador = BasicAer.get_backend('qasm_simulator')  # Configuramos nosso simulador\n",
    "trabalho = execute(qc, simulador)                   # Executamos no simulador\n",
    "resultado = trabalho.result()                       # Obtemos o resultado\n",
    "print(resultado.get_counts(qc))                     # Printamos o resultado"
   ]
  },
  {
   "cell_type": "code",
   "execution_count": null,
   "metadata": {},
   "outputs": [],
   "source": []
  }
 ],
 "metadata": {
  "kernelspec": {
   "display_name": "Python 3",
   "language": "python",
   "name": "python3"
  },
  "language_info": {
   "codemirror_mode": {
    "name": "ipython",
    "version": 3
   },
   "file_extension": ".py",
   "mimetype": "text/x-python",
   "name": "python",
   "nbconvert_exporter": "python",
   "pygments_lexer": "ipython3",
   "version": "3.7.3"
  }
 },
 "nbformat": 4,
 "nbformat_minor": 2
}
