{
 "cells": [
  {
   "cell_type": "markdown",
   "metadata": {},
   "source": [
    "* <a href='https://quantum-computing.ibm.com/support/guides/getting-started-with-circuit-composer?section=5cd0284a555a22003bf5957f'> Build your own 'Hello Quantum World' in Circuit Composer </a> (IBM)"
   ]
  },
  {
   "cell_type": "code",
   "execution_count": 1,
   "metadata": {},
   "outputs": [
    {
     "data": {
      "text/plain": [
       "'0.9.1'"
      ]
     },
     "execution_count": 1,
     "metadata": {},
     "output_type": "execute_result"
    }
   ],
   "source": [
    "## Desenvolvido por:    Jhordan Silveira de Borba\n",
    "## E-mail:              jhordandecacapava@gmail.com\n",
    "## Website:             https://github.com/SapoGitHub\n",
    "##                      https://alkasl.wordpress.com   \n",
    "## 2019\n",
    "\n",
    "import qiskit                # Biblioteca utilizada pela IBM para computadores quânticos\n",
    "from qiskit import *         # Importamos tudo\n",
    "\n",
    "qiskit.__version__  "
   ]
  },
  {
   "cell_type": "markdown",
   "metadata": {},
   "source": [
    "Temos inicialmente 2 qubits, onde inicialmente o estado de cada qubit i em um instante n qualquer pode ser \n",
    "dado separadamente por $ q_{n}\\left[i\\right]=a\\left|0\\right\\rangle +b\\left|1\\right\\rangle $ .Utilizando sua representação vetorial $ \\left[\\begin{array}{c} a\\\\ b \\end{array}\\right], $ sendo a base do espaço de cada qubit $ b_{q}=\\left[\\begin{array}{c} \\left|0\\right\\rangle \\\\ \\left|1\\right\\rangle \\end{array}\\right] $, então o estado inicial de cada qubit é: \n",
    "\n",
    "* $ q_{0}\\left[0\\right]=\\left[\\begin{array}{c} 1\\\\ 0 \\end{array}\\right] $\n",
    "* $ q_{0}\\left[1\\right]=\\left[\\begin{array}{c} 1\\\\ 0 \\end{array}\\right] $\n"
   ]
  },
  {
   "cell_type": "code",
   "execution_count": 2,
   "metadata": {},
   "outputs": [],
   "source": [
    "qc = QuantumCircuit(2, 2) #Criamos um circuito com 2 registradores quânticos e dois registradores clássicos"
   ]
  },
  {
   "cell_type": "markdown",
   "metadata": {},
   "source": [
    "Como a representação matricial da porta de Hadamard é dada por:\n",
    "\n",
    "\\begin{equation}\n",
    "H=\\frac{1}{\\sqrt{2}}\\left[\\begin{array}{cc}\n",
    "1 & 1\\\\\n",
    "1 & -1\n",
    "\\end{array}\\right]\n",
    "\\end{equation}\n",
    "\n",
    "Podemos aplicá-la no qubit $q_{0}\\left[0\\right]$, e obtermos:\n",
    "\n",
    "\\begin{equation}\n",
    "q_{1}\\left[0\\right]=Hq_{0}\\left[0\\right]=\\frac{1}{\\sqrt{2}}\\left[\\begin{array}{cc}\n",
    "1 & 1\\\\\n",
    "1 & -1\n",
    "\\end{array}\\right]\\left[\\begin{array}{c}\n",
    "1\\\\\n",
    "0\n",
    "\\end{array}\\right]=\\frac{1}{\\sqrt{2}}\\left[\\begin{array}{c}\n",
    "1\\\\\n",
    "1\n",
    "\\end{array}\\right]\n",
    "\\end{equation}\n",
    "\n",
    "O estado atual de cada qubit agora é dado por:\n",
    "\n",
    "* $ q_{1}\\left[0\\right]=\\frac{1}{\\sqrt{2}}\\left[\\begin{array}{c} 1\\\\ 1 \\end{array}\\right]$\n",
    "* $ q_{1}\\left[1\\right]=\\left[\\begin{array}{c} 1\\\\ 0 \\end{array}\\right] $\n"
   ]
  },
  {
   "cell_type": "code",
   "execution_count": 3,
   "metadata": {},
   "outputs": [
    {
     "data": {
      "text/plain": [
       "<qiskit.circuit.instructionset.InstructionSet at 0x1721e1d9a90>"
      ]
     },
     "execution_count": 3,
     "metadata": {},
     "output_type": "execute_result"
    }
   ],
   "source": [
    "qc.h(0) #Operamos o Gate Hadamard em q[0]"
   ]
  },
  {
   "cell_type": "markdown",
   "metadata": {},
   "source": [
    "Vamos precisar agora trabalhar com o estado composto por ambos os qubits. Então o estado composto é dado por:\n",
    "\n",
    "\\begin{equation}\n",
    "E_{1}=q_{1}\\left[0\\right]\\otimes q_{1}\\left[1\\right]\n",
    "\\end{equation}\n",
    "\n",
    "\\begin{equation}\n",
    "E_{1}=\\frac{1}{\\sqrt{2}}\\left[\\begin{array}{c}\n",
    "1\\\\\n",
    "1\n",
    "\\end{array}\\right]\\otimes\\left[\\begin{array}{c}\n",
    "1\\\\\n",
    "0\n",
    "\\end{array}\\right]=\\frac{1}{\\sqrt{2}}\\left[\\begin{array}{c}\n",
    "1\\\\\n",
    "0\\\\\n",
    "1\\\\\n",
    "0\n",
    "\\end{array}\\right]\n",
    "\\end{equation}\n",
    "\n",
    "E a base do estado composto será: $ b_{c}=\\left[\\begin{array}{c}\n",
    "\\left|0\\right\\rangle \\\\\n",
    "\\left|1\\right\\rangle \n",
    "\\end{array}\\right]\\otimes\\left[\\begin{array}{c}\n",
    "\\left|0\\right\\rangle \\\\\n",
    "\\left|1\\right\\rangle \n",
    "\\end{array}\\right]=\\left[\\begin{array}{c}\n",
    "\\left|0\\right\\rangle \\left|0\\right\\rangle \\\\\n",
    "\\left|0\\right\\rangle \\left|1\\right\\rangle \\\\\n",
    "\\left|1\\right\\rangle \\left|0\\right\\rangle \\\\\n",
    "\\left|1\\right\\rangle \\left|1\\right\\rangle \n",
    "\\end{array}\\right], $ que vamos denotar de forma simplificada como $b_{c}=\\left[\\begin{array}{c}\n",
    "\\left|00\\right\\rangle \\\\\n",
    "\\left|01\\right\\rangle \\\\\n",
    "\\left|10\\right\\rangle \\\\\n",
    "\\left|11\\right\\rangle \n",
    "\\end{array}\\right]$.\n",
    "\n",
    "A porta CNOT tem sua representação matricial dada por:\n",
    "\n",
    "\\begin{equation}\n",
    "CNOT=\\left[\\begin{array}{cccc}\n",
    "1 & 0 & 0 & 0\\\\\n",
    "0 & 1 & 0 & 0\\\\\n",
    "0 & 0 & 0 & 1\\\\\n",
    "0 & 0 & 1 & 0\n",
    "\\end{array}\\right]\n",
    "\\end{equation}\n",
    "\n",
    "Então operando no sistema, obtemos o estado final:\n",
    "\n",
    "\\begin{equation}\n",
    "E_{2}=\\left[\\begin{array}{cccc}\n",
    "1 & 0 & 0 & 0\\\\\n",
    "0 & 1 & 0 & 0\\\\\n",
    "0 & 0 & 0 & 1\\\\\n",
    "0 & 0 & 1 & 0\n",
    "\\end{array}\\right]\\left[\\begin{array}{c}\n",
    "\\frac{1}{\\sqrt{2}}\\\\\n",
    "0\\\\\n",
    "\\frac{1}{\\sqrt{2}}\\\\\n",
    "0\n",
    "\\end{array}\\right]=\\left[\\begin{array}{c}\n",
    "\\frac{1}{\\sqrt{2}}\\\\\n",
    "0\\\\\n",
    "0\\\\\n",
    "\\frac{1}{\\sqrt{2}}\n",
    "\\end{array}\\right]\n",
    "\\end{equation}"
   ]
  },
  {
   "cell_type": "code",
   "execution_count": 4,
   "metadata": {},
   "outputs": [
    {
     "data": {
      "text/plain": [
       "<qiskit.circuit.instructionset.InstructionSet at 0x1721e1d9cf8>"
      ]
     },
     "execution_count": 4,
     "metadata": {},
     "output_type": "execute_result"
    }
   ],
   "source": [
    "qc.cx(0, 1)    #Aplicamos o CNOT ao par de qubits"
   ]
  },
  {
   "cell_type": "markdown",
   "metadata": {},
   "source": [
    "Logo estado final de nosso sistema é:\n",
    "\n",
    "\\begin{equation}\n",
    "E_{2}=\\frac{1}{\\sqrt{2}}\\left|00\\right\\rangle +\\frac{1}{\\sqrt{2}}\\left|11\\right\\rangle \n",
    "\\end{equation}\n",
    "\n",
    "Ou seka, temos $50\\%$ de probabilidade do sistem estar em cada estado ($\\left|00\\right\\rangle$  ou $\\left|11\\right\\rangle )$."
   ]
  },
  {
   "cell_type": "code",
   "execution_count": 5,
   "metadata": {},
   "outputs": [
    {
     "name": "stdout",
     "output_type": "stream",
     "text": [
      "{'00': 520, '11': 504}\n"
     ]
    }
   ],
   "source": [
    "# Medimos os estados dos registradores quânticos e guardamos nos clássicos\n",
    "qc.measure([0,1], [0,1])                            # q[0]->c[0]\n",
    "simulador = BasicAer.get_backend('qasm_simulator')  # Configuramos nosso simulador\n",
    "trabalho = execute(qc, simulador)                   # Executamos no simulador\n",
    "resultado = trabalho.result()                       # Obtemos o resultado\n",
    "print(resultado.get_counts(qc))                     # Printamos o resultado"
   ]
  },
  {
   "cell_type": "markdown",
   "metadata": {},
   "source": [
    "### Rodando na nuvem"
   ]
  },
  {
   "cell_type": "code",
   "execution_count": 6,
   "metadata": {},
   "outputs": [],
   "source": [
    "from qiskit.providers.ibmq import least_busy       # Função para sabermos a máquina mais livre\n",
    "# Nosso Token de acesso\n",
    "TOKEN = '42d35b8e4d7b201db7d51113852936c2c57fda8ef8dcc96e4057224df14603b00582bc2a165cd82e15e9911dc21ac19f3d341d109ca840cfbcbbf773592771c4'                              \n",
    "IBMQ.save_account(TOKEN,overwrite=True)             # Vamos salvar nossas credenciais\n",
    "provedor = IBMQ.load_account()                      # E nos conectamos\n"
   ]
  },
  {
   "cell_type": "code",
   "execution_count": 7,
   "metadata": {},
   "outputs": [
    {
     "name": "stdout",
     "output_type": "stream",
     "text": [
      "Rodando na máquina:  ibmq_16_melbourne\n",
      "{'01': 55, '10': 38, '00': 548, '11': 383}\n"
     ]
    }
   ],
   "source": [
    "# Buscamos o dispositivo menos ocupado\n",
    "try:\n",
    "    livre = least_busy(provedor.backends(simulator=False))\n",
    "    print(\"Rodando na máquina: \", livre)\n",
    "    prosseguir = True\n",
    "except:\n",
    "    print(\"Nenhuma máquina disponível.\")\n",
    "    prosseguir = False\n",
    "\n",
    "if (prosseguir == True):\n",
    "    # E vamos rodar e mostrar os resultados efetivamente\n",
    "    trabalho = execute(qc, livre, shots=1024, max_credits=10)\n",
    "    resultado = trabalho.result()\n",
    "    print(resultado.get_counts(qc))"
   ]
  },
  {
   "cell_type": "code",
   "execution_count": null,
   "metadata": {},
   "outputs": [],
   "source": []
  }
 ],
 "metadata": {
  "kernelspec": {
   "display_name": "Python 3",
   "language": "python",
   "name": "python3"
  },
  "language_info": {
   "codemirror_mode": {
    "name": "ipython",
    "version": 3
   },
   "file_extension": ".py",
   "mimetype": "text/x-python",
   "name": "python",
   "nbconvert_exporter": "python",
   "pygments_lexer": "ipython3",
   "version": "3.7.3"
  }
 },
 "nbformat": 4,
 "nbformat_minor": 2
}
