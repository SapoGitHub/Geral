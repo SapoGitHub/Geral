{
 "cells": [
  {
   "cell_type": "markdown",
   "metadata": {},
   "source": [
    "#  Implementação\n",
    "\n",
    "\n",
    "## Simulação\n",
    "\n",
    "A priori, essa simulação é metade parte em um computador normal (computar os novos valores $\\Delta\\delta$ e $\\Delta\\theta$ e parte no computador quântico (obter as saídas a partir das entradas).\n",
    "\n",
    "Vamos tentar reproduzir os resultados do artigo.\n",
    "\n",
    "* Os pesos $\\theta_{j,k}$ iniciais foram distribuídos aleatoriamente entre $\\left[0,2\\pi\\right)$.\n",
    "* A taxa de reversão $\\delta_{k}$ inicial foi distribuído aleatóriamente entre $\\left[-1,1\\right]$.\n",
    "* O objetivo é aprender o basico da operação XOR.\n",
    "  * Quatro dipo de padrões $\\left(x_{1},x_{2}:y^{t}\\right)=\\left\\{\\left(0,0:0\\right),\\left(0,1:1\\right),\\left(1,0:1\\right),\\left(1,1:0\\right)\\right\\} $ foi dado a rede a cada aprenzidado.\n",
    "  * O resultado é uma média de 500 aprendizados."
   ]
  },
  {
   "cell_type": "markdown",
   "metadata": {},
   "source": [
    "Para implementar, primeiro precisamos saber como implementar as portas no nosso circuito quântico real. \n",
    "Começando com cNOT. Neste caso a variável de controle é outro bit, isto é, a porta do não controlado inverte o qubit alvo, quando o qubit de controle está no estado $\\left|1\\right\\rangle$.\n",
    "\n",
    "Por tanto precisamos de um qubit de controle para cada um dos nossos qubits de saída.\n",
    "\n",
    "Como já avaliamos em estudos anteriores,temos:\n",
    "\n",
    "\\begin{equation}\n",
    "C_{x}=\\left(\\begin{array}{cccc}\n",
    "1 & 0 & 0 & 0\\\\\n",
    "0 & 1 & 0 & 0\\\\\n",
    "0 & 0 & 0 & 1\\\\\n",
    "0 & 0 & 1 & 0\n",
    "\\end{array}\\right)\n",
    "\\end{equation}\n",
    "\n",
    "Agora sobre a rotação, temos a rotação padrão em torno do eixo y que é dada por:\n",
    "\n",
    "\\begin{equation}\n",
    "R_{y}\\left(\\theta\\right)=\\left(\\begin{array}{cc}\n",
    "\\cos\\left(\\frac{\\theta}{2}\\right) & -\\sin\\left(\\frac{\\theta}{2}\\right)\\\\\n",
    "\\sin\\left(\\frac{\\theta}{2}\\right) & \\cos\\left(\\frac{\\theta}{2}\\right)\n",
    "\\end{array}\\right)\n",
    "\\end{equation}\n",
    "\n",
    "Aplicando ao nosso qubit temos:\n",
    "\n",
    "\\begin{equation}\n",
    "R_{y}\\left(\\alpha\\right)f\\left(\\theta_{j}\\right)=\\left(\\begin{array}{cc}\n",
    "\\cos\\left(\\frac{\\alpha}{2}\\right) & -\\sin\\left(\\frac{\\alpha}{2}\\right)\\\\\n",
    "\\sin\\left(\\frac{\\alpha}{2}\\right) & \\cos\\left(\\frac{\\alpha}{2}\\right)\n",
    "\\end{array}\\right)\\left(\\begin{array}{c}\n",
    "\\cos\\left(\\theta_{j}\\right)\\\\\n",
    "\\sin\\left(\\theta_{j}\\right)\n",
    "\\end{array}\\right)\n",
    "\\end{equation}\n",
    "\n",
    "\\begin{equation}\n",
    "R_{y}\\left(\\alpha\\right)f\\left(\\theta_{j}\\right)=\\left(\\begin{array}{c}\n",
    "\\cos\\left(\\frac{\\alpha}{2}\\right)\\cos\\left(\\theta_{j}\\right)-\\sin\\left(\\frac{\\alpha}{2}\\right)\\sin\\left(\\theta_{j}\\right)\\\\\n",
    "\\sin\\left(\\frac{\\alpha}{2}\\right)\\cos\\left(\\theta_{j}\\right)+\\cos\\left(\\frac{\\alpha}{2}\\right)\\sin\\left(\\theta_{j}\\right)\n",
    "\\end{array}\\right)\n",
    "\\end{equation}\n",
    "\n",
    "Que nos leva ao sistema:\n",
    "\n",
    "\\begin{equation}\n",
    "\\cos\\left(\\frac{\\alpha}{2}\\right)\\cos\\left(\\theta_{j}\\right)-\\sin\\left(\\frac{\\alpha}{2}\\right)\\sin\\left(\\theta_{j}\\right)=\\cos\\left(\\theta_{j,i}+\\theta_{j}\\right)\n",
    "\\end{equation}\n",
    "\n",
    "\\begin{equation}\n",
    "\\cos\\left(\\frac{\\alpha}{2}\\right)\\sin\\left(\\theta_{j}\\right)+\\sin\\left(\\frac{\\alpha}{2}\\right)\\cos\\left(\\theta_{j}\\right)=\\sin\\left(\\theta_{j,i}+\\theta_{j}\\right)\n",
    "\\end{equation}\n",
    "\n",
    "Então se usamos a seguinte identidade trigonométrica:\n",
    "\n",
    "\\begin{equation}\n",
    "\\cos\\left(a+b\\right)=\\cos a\\cdot\\cos b-\\sin a\\cdot\\sin b\n",
    "\\end{equation}\n",
    "\n",
    "Temos que:\n",
    "\n",
    "\\begin{equation}\n",
    "\\cos\\left(\\theta_{j,i}+\\theta_{j}\\right)=\\cos\\left(\\theta_{j,i}\\right)\\cos\\left(\\theta_{j}\\right)-\\sin\\left(\\theta_{j,i}\\right)\\sin\\left(\\theta_{j}\\right)\n",
    "\\end{equation}\n",
    "\n",
    "Logo $\\alpha=2\\theta_{j,i}$.\n",
    "\n",
    "Da mesma forma, se usarmos:\n",
    "\n",
    "\\begin{equation}\n",
    "\\sin\\left(\\theta_{j,i}+\\theta_{j}\\right)=\\cos\\left(\\theta_{j,i}\\right)\\sin\\left(\\theta_{j}\\right)+\\sin\\left(\\theta_{j,i}\\right)\\cos\\left(\\theta_{j}\\right)\n",
    "\\end{equation}\n",
    "\n",
    "E obtemos o mesmo resultado."
   ]
  },
  {
   "cell_type": "markdown",
   "metadata": {},
   "source": [
    "Então vamos usar:\n",
    "* 2 qubits de entrada\n",
    "* 1 qubit de saída\n",
    "* 1 qubit para armezar a variável de controle do qubit de saída\n",
    "  * Para $n$ saídas, temos $n$ variáveis de controle para o cNOT\n",
    "* Uma matriz $1 \\times 2$ para armazenar os valores de rotação entre a saída e as duas entradas.\n",
    "  * Para $n$ saídas e $m$ entradas, precisamos de de $n \\times m$ valores de rotação.\n",
    "\n",
    "Como um dos qubits de saída é um dos próprio qubit de entrada, vamos usar 3 qubits. Em geral precisamos dos qubits de entrada, dos qubits com a variável de controle do qubit de saída, e um qubit de saída."
   ]
  },
  {
   "cell_type": "code",
   "execution_count": 1,
   "metadata": {},
   "outputs": [],
   "source": [
    "from qiskit import *                             # Importamos as principais funções do Qiskit\n",
    "from qiskit.visualization import plot_histogram  # A função para plotar o histograma\n",
    "from qiskit.tools.monitor import job_monitor     # A função pra monitorar o trabalho\n",
    "import numpy as np                               # Biblioteca de funções científicas"
   ]
  },
  {
   "cell_type": "code",
   "execution_count": 2,
   "metadata": {},
   "outputs": [],
   "source": [
    "def ge (delta):\n",
    "    # delta - Taxa de reversão\n",
    "    return (1/(1+np.power(np.e,-delta)))"
   ]
  },
  {
   "cell_type": "code",
   "execution_count": 6,
   "metadata": {},
   "outputs": [],
   "source": [
    "# Vamos sortear nossos pesos de rotação e taxa de conversão:\n",
    "\n",
    "a = np.random.rand(1,3)       # Sorteamos 2 números aleatórios entre 0 e 1\n",
    "fases = (a[0][0]*np.pi,a[0][1]*np.pi)          # Pra fase convertemos entre 0 e 2.pi\n",
    "delta = a[0][2] -1            # Pra taxa de reversão convertemos entre -1 e 1\n",
    "g = ge(delta)                 # calculamos o valor da nossa variável de controle"
   ]
  },
  {
   "cell_type": "markdown",
   "metadata": {},
   "source": [
    "Para os nossos três qubits no momento temos o mesmo estado:\n",
    "\n",
    "\\begin{equation}\n",
    "q\\left[n\\right]=1=e^{i0}\n",
    "\\end{equation}\n",
    "\n",
    "Queremos que nosso qubit 2 seja:\n",
    "\n",
    "\\begin{equation}\n",
    "q\\left[2\\right]=\\sqrt{1-g\\left(\\delta_{1}\\right)^{2}}\\left|0\\right\\rangle +g\\left(\\delta_{1}\\right)\\left|1\\right\\rangle \n",
    "\\end{equation}\n",
    "\n",
    "Pois queremos que a probabilidae total seja igual a 1, ou seja:\n",
    "\n",
    "\\begin{equation}\n",
    "\\left(\\sqrt{1-g\\left(\\delta_{1}\\right)^{2}}\\right)^{2}+g\\left(\\delta_{1}\\right)^{2}=1\n",
    "\\end{equation}\n",
    "\n",
    "Mas se concentrando apenas em $\\left|1\\right\\rangle$, temos que:\n",
    "\n",
    "\\begin{equation}\n",
    "g\\left(\\delta_{1}\\right)=\\sin\\left(\\theta\\right)\n",
    "\\end{equation}\n",
    "\n",
    "\\begin{equation}\n",
    "\\theta=\\arcsin\\left(g\\left(\\delta_{1}\\right)\\right)\n",
    "\\end{equation}\n",
    "\n",
    "Então podemos realizaar uma rotação:\n",
    "\n",
    "\\begin{equation}\n",
    "q\\left[2\\right]'=e^{i\\left(0+\\theta\\right)}=e^{i\\cdot0}e^{i\\theta}=R_{y}\\left(2\\theta\\right)q\\left[2\\right]\n",
    "\\end{equation}"
   ]
  },
  {
   "cell_type": "code",
   "execution_count": 7,
   "metadata": {},
   "outputs": [],
   "source": [
    "del_t=np.arcsin(g)"
   ]
  },
  {
   "cell_type": "code",
   "execution_count": 8,
   "metadata": {},
   "outputs": [
    {
     "data": {
      "text/plain": [
       "<qiskit.circuit.instructionset.InstructionSet at 0x231c545ffd0>"
      ]
     },
     "execution_count": 8,
     "metadata": {},
     "output_type": "execute_result"
    }
   ],
   "source": [
    "backend = BasicAer.get_backend('qasm_simulator')     # Escolhomos o backend\n",
    "\n",
    "# CONSTRUÇÃO do circuito\n",
    "qc = QuantumCircuit(3,1)                             # Declaramos nossos 3 qubits e o bit clássico que vamos ler o resultado\n",
    "# 0 - Entrada/saída\n",
    "# 1 - Entrada\n",
    "# 2 - Taxa de reversão\n",
    "\n",
    "qc.ry(del_t*2,2)                                     # Atribuimos nossa taxa de reversão ao qubit 2"
   ]
  },
  {
   "cell_type": "markdown",
   "metadata": {},
   "source": [
    "Então com nosso sistema preparado, começamos a roda e rede neural. Primeiro vamos passar o valor do qubit preciamos calcular :\n",
    "\n",
    "\\begin{equation}\n",
    "v_{k}^{O}=S_{k-1}^{O}e^{\\theta_{k-1,k}}+\\sum_{j=1}^{n}e^{i\\theta_{j,k}}S_{j}^{I}\n",
    "\\end{equation}"
   ]
  },
  {
   "cell_type": "code",
   "execution_count": 10,
   "metadata": {},
   "outputs": [
    {
     "name": "stdout",
     "output_type": "stream",
     "text": [
      "{'1': 206189, '0': 793811}\n"
     ]
    }
   ],
   "source": [
    "qc.measure([2], [0])                           # Vamos medir\n",
    "\n",
    "# EXECUÇÃO\n",
    "result = execute(qc, backend, shots=1000000).result() # Pegamos o resultado de uma simulação rodando 1000 vezes\n",
    "counts  = result.get_counts(qc)                    # Contamos os resultados\n",
    "print(counts)                  "
   ]
  },
  {
   "cell_type": "code",
   "execution_count": null,
   "metadata": {},
   "outputs": [],
   "source": []
  }
 ],
 "metadata": {
  "kernelspec": {
   "display_name": "Python 3",
   "language": "python",
   "name": "python3"
  },
  "language_info": {
   "codemirror_mode": {
    "name": "ipython",
    "version": 3
   },
   "file_extension": ".py",
   "mimetype": "text/x-python",
   "name": "python",
   "nbconvert_exporter": "python",
   "pygments_lexer": "ipython3",
   "version": "3.7.3"
  }
 },
 "nbformat": 4,
 "nbformat_minor": 2
}
