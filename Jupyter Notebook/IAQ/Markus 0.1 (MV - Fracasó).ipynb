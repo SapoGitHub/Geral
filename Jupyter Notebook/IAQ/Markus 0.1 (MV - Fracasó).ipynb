{
 "cells": [
  {
   "cell_type": "markdown",
   "metadata": {},
   "source": [
    "Vamos tentar escrever um algoritmo quântico para realizar uma classificação binária baseado no 'kernel methods'. \n",
    "\n",
    "Nossas entradas são os qubits e as classes que vamos classificar são se está no hemisfério sul ($c_{1}$) ou norte ($c_{2}$) na esfera de bloch. Isto é, o qubit tem mais probabilidade de ser $\\left|1\\right\\rangle$  ou $\\left|0\\right\\rangle$ .\n",
    "\n",
    "Lembrando que o estado de um qubit pode ser escrito como:\n",
    "\n",
    "\\begin{equation}\n",
    "\\left|\\Psi\\right\\rangle =\\cos\\left(\\frac{\\theta}{2}\\right)\\left|0\\right\\rangle +e^{i\\varphi}\\sin\\left(\\frac{\\theta}{2}\\right)\\left|1\\right\\rangle \n",
    "\\end{equation}\n",
    "\n",
    "E a esfera de Bloch tem a seguinte aparência:\n",
    "\n",
    "<img src=\"bolch2.png\" width=\"300\" height=\"300\" />\n",
    "\n",
    "Vamos considerar 2 qubits em cada hemisfério para treinamento. Então primeiro para o hemisfério norte, vamos usar $\\theta=\\left\\{ \\frac{\\pi}{4},\\frac{\\pi}{4}\\right\\}$  e $\\phi=\\left\\{ 0,\\pi\\right\\}$. Temos então para treinamento:\n",
    "\n",
    "* $q_{0}=\\left[\\begin{array}{cc}\n",
    "\\cos\\left(\\frac{\\pi}{8}\\right) & \\sin\\left(\\frac{\\pi}{8}\\right)\\end{array}\\right]^{T}$\n",
    "* $q_{1}=\\left[\\begin{array}{cc}\n",
    "\\cos\\left(\\frac{\\pi}{8}\\right) & \\sin\\left(\\frac{\\pi}{8}\\right)\\end{array}e^{i\\pi}\\right]^{T}$\n",
    "\n",
    "Então queremos achar o vetor médio na esfera de bloch. "
   ]
  },
  {
   "cell_type": "code",
   "execution_count": null,
   "metadata": {},
   "outputs": [],
   "source": []
  }
 ],
 "metadata": {
  "kernelspec": {
   "display_name": "Python 3",
   "language": "python",
   "name": "python3"
  },
  "language_info": {
   "codemirror_mode": {
    "name": "ipython",
    "version": 3
   },
   "file_extension": ".py",
   "mimetype": "text/x-python",
   "name": "python",
   "nbconvert_exporter": "python",
   "pygments_lexer": "ipython3",
   "version": "3.7.3"
  }
 },
 "nbformat": 4,
 "nbformat_minor": 2
}
