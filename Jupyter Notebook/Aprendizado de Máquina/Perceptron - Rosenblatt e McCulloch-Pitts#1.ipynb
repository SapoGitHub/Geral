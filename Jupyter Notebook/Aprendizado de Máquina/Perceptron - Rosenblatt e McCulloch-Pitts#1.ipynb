{
 "cells": [
  {
   "cell_type": "markdown",
   "metadata": {},
   "source": [
    "* <a href='https://towardsdatascience.com/rosenblatts-perceptron-the-very-first-neural-network-37a3ec09038a'>Rosenblatt’s perceptron, the first modern neural network</a>\n",
    "* <a href='http://hagan.okstate.edu/4_Perceptron.pdf'> Perceptron Learning Rule </a>"
   ]
  },
  {
   "cell_type": "markdown",
   "metadata": {},
   "source": [
    "# Modelo de neurônio artificial de McuLLoc e Pitt\n",
    "\n",
    "* O prinípio de operação de um neurônio biológico pode ser resumido da seguinte forma:\n",
    "  * Primeiro uma entrada chega no neurônio.\n",
    "  * Então um peso dessas entradas é feito\n",
    "  * Se a soma dessas entradsa é maior que um limite, o neurônio se ativa, caso contrário, não."
   ]
  },
  {
   "cell_type": "markdown",
   "metadata": {},
   "source": [
    "## Modelo matemático dos neurônios artificiais\n",
    "\n",
    " Denotado por neurônio MCP, é definido pelas seguintes regras:\n",
    " * Tem uma saída binária $y\\in\\left\\{ 0,1\\right\\} $.\n",
    " * Tem um número $N$ de entradas binárias $x_{k}\\in\\left\\{ 0,1\\right\\} $\n",
    " * Tem um limiar $\\Theta$ em que se soma das entradas for maior, o neurônio é ativado ($y=1$), se não, não ($y=1$).\n",
    " * Tem uma única entrada inibitória $i$, se ela está ativa, o neurônio não ativa.\n",
    " \n",
    " Então se temos uma entrada $x=\\left[x_{1},x_{2},x_{3},\\dots,x_{n}\\right]^{T}$, e o limiar $\\Theta$, e a entreada inibitório $i$, a saída é calculada:\n",
    "\n",
    "\\begin{equation}\n",
    "\\sigma\\left(x\\right)=\\left\\{ \\begin{array}{ccc}\n",
    "1 & \\text{se}\\sum_{k=1}^{n}x_{k}>\\Theta & \\text{e }i=0\\\\\n",
    "0 & \\text{de outra forma}\n",
    "\\end{array}\\right.\n",
    "\\end{equation}\n",
    "\n",
    "Limitações:\n",
    "\n",
    "* Um único neurônio não consegue representar qualquer função não linear.\n",
    "* Todas as entradas contribuem igualmente para a saída.\n",
    "* Não aprende com os dados, a função considerada deve ser programada pelo usuário.\n",
    "* A regra da inibição absoluta é restritiva."
   ]
  },
  {
   "cell_type": "markdown",
   "metadata": {},
   "source": [
    "# Perceptron de uma cada de Rosenblatt\n",
    "\n",
    "Funciona apenas para problemas de classes linearmente separáveis, é um avanço mas ainda é bastante seelhante ao modelo anterior. As maiores diferenças são:\n",
    "\n",
    "* O neurôio tem uma constante $b$ extra associada a entrada chamado limiar. \n",
    "  * Em comparação com o neurônio MCP é apenas o negativo do limiar de ativação.\n",
    "* Os pesos $w_{k}$ são são restritos a unidades, permitindo que alguns neurônios tenham mais influência que outros.\n",
    "* Não estrá restrito que seja positivo sempre, então algumas entradas podem ter uma influência inibidora.\n",
    "* Não há a  regra da inibição absoluta\n",
    "\n",
    "Matematicamente:\n",
    "\n",
    "\\begin{equation}\n",
    "\\sigma\\left(\\overrightarrow{w}^{T}\\cdot\\overrightarrow{x}+b\\right)=\\left\\{ \\begin{array}{cc}\n",
    "+1 & \\text{se}\\sum_{k=1}^{n}\\overrightarrow{w}^{T}\\cdot\\overrightarrow{x}+b\\geq0\\\\\n",
    "-1 & \\text{de outra forma}\n",
    "\\end{array}\\right.\n",
    "\\end{equation}\n",
    "\n",
    "Ou podemos apenas considerar o sinal:\n",
    "\n",
    "\\begin{equation}\n",
    "\\text{sign}\\left(z\\right)=\\left\\{ \\begin{array}{cc}\n",
    "+1 & z\\geq0\\\\\n",
    "-1 & \\text{de outra forma}\n",
    "\\end{array}\\right.\n",
    "\\end{equation}\n",
    "\n",
    "Mas o mais interessante é que as fronteiras de decisão é dado por:\n",
    "\n",
    "\\begin{equation}\n",
    "b+w_{1}x_{1}+w_{2}x_{2}+\\dots+w_{n}x_{x}=0\n",
    "\\end{equation}\n",
    "\n",
    "\\begin{equation}\n",
    "b+\\overrightarrow{w}^{T}\\cdot\\overrightarrow{x}=0\n",
    "\\end{equation}\n",
    "\n",
    "Essa equação é um *hiperplano*. Onde o vetor $\\overrightarrow{w}$ é normal a esse plano e $b$ é o deslocamento da origem."
   ]
  },
  {
   "cell_type": "markdown",
   "metadata": {},
   "source": [
    "## Algoritmo de aprendizagem do Perceptron\n",
    "\n",
    "A regra de aprendizado é matematica resumido da seguinte forma:\n",
    "\n",
    "\\begin{equation}\n",
    "\\overrightarrow{w}=\\overrightarrow{w}+\\left(y_{n}-\\widehat{y}_{n}\\right)\\overrightarrow{x}\n",
    "\\end{equation}\n",
    "\n",
    "* $\\left(y_{n}-\\widehat{y}_{n}\\right)$ são respectivamente a saída desejada e a obtida\n",
    "* O peso não nada mais do que um peso com uma entrada que é $1$.\n",
    "\n",
    "A ideia é basicamente que se nossa saída foi acima do desejado, então precisamos diminuir nosso peso, se foi abaixo, precisamos aumentar,"
   ]
  },
  {
   "cell_type": "markdown",
   "metadata": {},
   "source": [
    "### Implementação do perceptron\n",
    "\n",
    "\n",
    "Vamos separar os pontos como fizemos pro método de núcleos, entre os pontos no lado positivo e negativo do eixo x."
   ]
  },
  {
   "cell_type": "code",
   "execution_count": 192,
   "metadata": {},
   "outputs": [],
   "source": [
    "from random import *                     # Biblioteca de funções de números randômicos\n",
    "import matplotlib.pyplot as plt          # Biblioteca para geração de gráficos\n",
    "import numpy as np                       # Biblioteca para cálculo cientifico\n",
    "\n",
    "# Função de ativação do neurônio\n",
    "def ativacao (entrada,p):\n",
    "    # entrada  - Tupla com os valores de entrada\n",
    "    # p        - Pesos das entradas e limiar\n",
    "    \n",
    "    s=entrada[0]*p[0]+entrada[1]*p[1]+p[2]\n",
    "    \n",
    "    if (s<0):\n",
    "        return -1\n",
    "    else:\n",
    "        return 1\n",
    "    \n",
    "def treinamento (sd,so,p,pos):\n",
    "    # sd - Saída desejada\n",
    "    # so - Saída obtida\n",
    "    # p  - Pesos das entradas e limiar\n",
    "    \n",
    "    e=(sd-so)                 # Erro\n",
    "    \n",
    "    n=1\n",
    "    p[0]=p[0]+n*e*pos[0]   # Peso da entrada 1\n",
    "    p[1]=p[1]+n*e*pos[1]   # Peso da entrada 2\n",
    "    p[2]=p[2]+n*e\n",
    "    \n",
    "    return p\n"
   ]
  },
  {
   "cell_type": "code",
   "execution_count": 193,
   "metadata": {},
   "outputs": [],
   "source": [
    "# TREINAMENTO\n",
    "\n",
    "## Vamos gerar os pontos de terinamento\n",
    "\n",
    "pos=[]\n",
    "neg=[]\n",
    "\n",
    "for i in range(100):\n",
    "    X = randint(1, 100)\n",
    "    Y = randint(1, 100)\n",
    "    \n",
    "    pos.append((X,Y))\n",
    "    neg.append((-X,Y))\n",
    "    \n",
    "p = [randint(-100, 100),randint(-100, 100),randint(1, 100)]    # Definimos os pesos"
   ]
  },
  {
   "cell_type": "code",
   "execution_count": 194,
   "metadata": {},
   "outputs": [],
   "source": [
    "## Vamos treinar\n",
    "\n",
    "for i in range (100):\n",
    "    s= ativacao (pos[i],p)\n",
    "    p= treinamento (1,s,p,pos[i])\n",
    "\n",
    "    s= ativacao (neg[i],p)\n",
    "    p= treinamento (-1,s,p,neg[i])"
   ]
  },
  {
   "cell_type": "code",
   "execution_count": 195,
   "metadata": {},
   "outputs": [],
   "source": [
    "# VALIDAÇÃO\n",
    "\n",
    "## Vamos gerar os pontos de validação\n",
    "\n",
    "x=[]\n",
    "y=[]\n",
    "\n",
    "\n",
    "for i in range(100):\n",
    "    xx = randint(-100, 100)\n",
    "    yy = randint(1, 100)\n",
    "    \n",
    "    x.append(xx)\n",
    "    y.append(yy)"
   ]
  },
  {
   "cell_type": "code",
   "execution_count": 196,
   "metadata": {},
   "outputs": [],
   "source": [
    "## Vamos classificar\n",
    "\n",
    "pos_x=[]\n",
    "pos_y=[]\n",
    "\n",
    "neg_x=[]\n",
    "neg_y=[]\n",
    "    \n",
    "for i in range (100):\n",
    "    s=ativacao ((x[i],y[i]),p)\n",
    "    if (s==1):\n",
    "        pos_x.append(x[i])\n",
    "        pos_y.append(y[i])\n",
    "    else:\n",
    "        neg_x.append(x[i])\n",
    "        neg_y.append(y[i])"
   ]
  },
  {
   "cell_type": "code",
   "execution_count": 215,
   "metadata": {},
   "outputs": [
    {
     "data": {
      "image/png": "[encoded data removed]",
      "text/plain": [
       "<Figure size 432x288 with 1 Axes>"
      ]
     },
     "metadata": {
      "needs_background": "light"
     },
     "output_type": "display_data"
    }
   ],
   "source": [
    "## Vamos gerar o gráfico\n",
    "\n",
    "plt.plot(pos_x, pos_y,'ob', label='Positivo')\n",
    "plt.plot(neg_x, neg_y,'or', label='Negativo')\n",
    "\n",
    "#Podemos plotar uma reta, lembrando que x*p[0]+y*p[1]+p[2]=0\n",
    "xis=np.linspace(-15, 15, 100)\n",
    "plt.plot(xis, -(p[2]+xis*p[0])/p[1] , color='black')\n",
    "\n",
    "# E podemos plotar o vetor definido por (p[0],[1])\n",
    "\n",
    "norm=np.sqrt(p[0]*p[0]+p[1]*p[1])\n",
    "X = np.array((0))\n",
    "Y= np.array((50))\n",
    "U = np.array(p[0])\n",
    "V = np.array(p[1])\n",
    "\n",
    "plt.quiver(X, Y, U/5, V/5, scale=1, units='xy', color='green')#,units='xy' ,scale=1)\n",
    "\n",
    "# Configurando o plot\n",
    "plt.title(\"Pontos de teste\")\n",
    "plt.legend()\n",
    "plt.ylim(-10, 100)    # Eixo Y\n",
    "plt.xlim(-100, 100)   # Eixo X\n",
    "\n",
    "plt.show()"
   ]
  },
  {
   "cell_type": "code",
   "execution_count": 202,
   "metadata": {},
   "outputs": [
    {
     "data": {
      "text/plain": [
       "[296, -5, 5]"
      ]
     },
     "execution_count": 202,
     "metadata": {},
     "output_type": "execute_result"
    }
   ],
   "source": [
    "p"
   ]
  },
  {
   "cell_type": "code",
   "execution_count": null,
   "metadata": {},
   "outputs": [],
   "source": []
  }
 ],
 "metadata": {
  "kernelspec": {
   "display_name": "Python 3",
   "language": "python",
   "name": "python3"
  },
  "language_info": {
   "codemirror_mode": {
    "name": "ipython",
    "version": 3
   },
   "file_extension": ".py",
   "mimetype": "text/x-python",
   "name": "python",
   "nbconvert_exporter": "python",
   "pygments_lexer": "ipython3",
   "version": "3.7.3"
  }
 },
 "nbformat": 4,
 "nbformat_minor": 2
}
